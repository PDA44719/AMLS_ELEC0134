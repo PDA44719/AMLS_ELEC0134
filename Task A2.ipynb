{
 "cells": [
  {
   "cell_type": "code",
   "execution_count": 1,
   "id": "85d54870",
   "metadata": {},
   "outputs": [],
   "source": [
    "import pandas as pd\n",
    "import matplotlib.pyplot as plt\n",
    "import matplotlib.image as mpimg\n",
    "import tensorflow as tf\n",
    "from tensorflow.keras.utils import load_img, img_to_array\n",
    "import numpy as np"
   ]
  },
  {
   "cell_type": "code",
   "execution_count": 2,
   "id": "291e4c14",
   "metadata": {},
   "outputs": [],
   "source": [
    "import tensorflow as tf\n",
    "import seaborn as sns\n",
    "import numpy as np\n",
    "import matplotlib.pyplot as plt\n",
    "import pandas as pd\n",
    "import random\n",
    "import os\n",
    "import dlib\n",
    "import re"
   ]
  },
  {
   "cell_type": "code",
   "execution_count": 3,
   "id": "8a18c299",
   "metadata": {},
   "outputs": [],
   "source": [
    "import cv2"
   ]
  },
  {
   "cell_type": "markdown",
   "id": "e28a1340",
   "metadata": {},
   "source": [
    "# Define a few variables"
   ]
  },
  {
   "cell_type": "code",
   "execution_count": 4,
   "id": "a3eb3e63",
   "metadata": {},
   "outputs": [],
   "source": [
    "basedir = './dataset_AMLS_22-23/celeba'\n",
    "images_dir = os.path.join(basedir,'img')\n",
    "labels_filename = 'labels.csv'\n",
    "\n",
    "detector = dlib.get_frontal_face_detector()\n",
    "predictor = dlib.shape_predictor('shape_predictor_68_face_landmarks.dat')"
   ]
  },
  {
   "cell_type": "markdown",
   "id": "fca3cf58",
   "metadata": {},
   "source": [
    "# Define a set of functions to be used to extract the features "
   ]
  },
  {
   "cell_type": "code",
   "execution_count": 5,
   "id": "0d21a8f9",
   "metadata": {},
   "outputs": [],
   "source": [
    "def shape_to_np(shape, dtype=\"int\"):\n",
    "    # initialize the list of (x, y)-coordinates\n",
    "    coords = np.zeros((shape.num_parts, 2), dtype=dtype)\n",
    "\n",
    "    # loop over all facial landmarks and convert them\n",
    "    # to a 2-tuple of (x, y)-coordinates\n",
    "    for i in range(0, shape.num_parts):\n",
    "        coords[i] = (shape.part(i).x, shape.part(i).y)\n",
    "\n",
    "    # return the list of (x, y)-coordinates\n",
    "    return coords"
   ]
  },
  {
   "cell_type": "code",
   "execution_count": 6,
   "id": "3aadf74b",
   "metadata": {},
   "outputs": [],
   "source": [
    "def rect_to_bb(rect):\n",
    "    # take a bounding predicted by dlib and convert it\n",
    "    # to the format (x, y, w, h) as we would normally do\n",
    "    # with OpenCV\n",
    "    x = rect.left()\n",
    "    y = rect.top()\n",
    "    w = rect.right() - x\n",
    "    h = rect.bottom() - y\n",
    "\n",
    "    # return a tuple of (x, y, w, h)\n",
    "    return (x, y, w, h)"
   ]
  },
  {
   "cell_type": "code",
   "execution_count": 7,
   "id": "5c17fd0b",
   "metadata": {},
   "outputs": [],
   "source": [
    "def run_dlib_shape(image):\n",
    "    # in this function we load the image, detect the landmarks of the face, and then return the image and the landmarks\n",
    "    # load the input image, resize it, and convert it to grayscale\n",
    "    resized_image = image.astype('uint8')\n",
    "\n",
    "    gray = cv2.cvtColor(resized_image, cv2.COLOR_BGR2GRAY)\n",
    "    gray = gray.astype('uint8')\n",
    "\n",
    "    # detect faces in the grayscale image\n",
    "    rects = detector(gray, 1)\n",
    "    num_faces = len(rects)\n",
    "\n",
    "    if num_faces == 0:\n",
    "        return None, resized_image\n",
    "\n",
    "    face_areas = np.zeros((1, num_faces))\n",
    "    face_shapes = np.zeros((136, num_faces), dtype=np.int64)\n",
    "\n",
    "    # loop over the face detections\n",
    "    for (i, rect) in enumerate(rects):\n",
    "        # determine the facial landmarks for the face region, then\n",
    "        # convert the facial landmark (x, y)-coordinates to a NumPy\n",
    "        # array\n",
    "        temp_shape = predictor(gray, rect)\n",
    "        temp_shape = shape_to_np(temp_shape)\n",
    "\n",
    "        # convert dlib's rectangle to a OpenCV-style bounding box\n",
    "        # [i.e., (x, y, w, h)],\n",
    "        #   (x, y, w, h) = face_utils.rect_to_bb(rect)\n",
    "        (x, y, w, h) = rect_to_bb(rect)\n",
    "        face_shapes[:, i] = np.reshape(temp_shape, [136])\n",
    "        face_areas[0, i] = w * h\n",
    "    # find largest face and keep\n",
    "    dlibout = np.reshape(np.transpose(face_shapes[:, np.argmax(face_areas)]), [68, 2])\n",
    "\n",
    "    return dlibout, resized_image"
   ]
  },
  {
   "cell_type": "code",
   "execution_count": 8,
   "id": "6b6e8e34",
   "metadata": {},
   "outputs": [],
   "source": [
    "# This function was added by myself\n",
    "def generate_dict_from_df(df, keys_col, values_col):\n",
    "    zip_ = zip(df[keys_col], df[values_col])\n",
    "    l = list(zip_)\n",
    "    d = dict(l)\n",
    "    return d"
   ]
  },
  {
   "cell_type": "code",
   "execution_count": 9,
   "id": "e6aa9a90",
   "metadata": {},
   "outputs": [],
   "source": [
    "def extract_features_labels():\n",
    "    \"\"\"\n",
    "    This funtion extracts the landmarks features for all images in the folder 'dataset/celeba'.\n",
    "    It also extract the gender label for each image.\n",
    "    :return:\n",
    "        landmark_features:  an array containing 68 landmark points for each image in which a face was detected\n",
    "        gender_labels:      an array containing the gender label (male=0 and female=1) for each image in\n",
    "                            which a face was detected\n",
    "    \"\"\"\n",
    "    image_paths = [os.path.join(images_dir, l) for l in os.listdir(images_dir)]\n",
    "    target_size = None\n",
    "    #labels_file = open(os.path.join(basedir, labels_filename), 'r')\n",
    "    #lines = labels_file.readlines()\n",
    "    labels_df = pd.read_csv(os.path.join(basedir, labels_filename), sep='\\t')\n",
    "    gender_labels = generate_dict_from_df(labels_df, 'img_name', 'gender')\n",
    "    #smiling_labels = generate_dict_from_df(labels_df, 'file_name', 'smiling')\n",
    "    #gender_labels = {line.split(',')[0] : int(line.split(',')[6]) for line in lines[2:]}\n",
    "    if os.path.isdir(images_dir):\n",
    "        all_features = []\n",
    "        all_gender_labels = []\n",
    "        #all_smiling_labels = []\n",
    "        image_files = []\n",
    "        i = 1\n",
    "        for img_path in image_paths:\n",
    "            print(f'Iteration {i} out of {len(image_paths)}')\n",
    "            #file_name= img_path.split('.')[1].split('/')[-1]\n",
    "            #file_name = str(img_path).replace('\\\\\\\\', 'mmmm')\n",
    "            new_file_name = re.search('img\\\\\\\\(.*)', img_path).group(1)\n",
    "            #new_img_path = re.search('\\\\(.*).png', img_path)\n",
    "            #print(file_name)\n",
    "            #print(new_file_name)\n",
    "\n",
    "            # load image\n",
    "            img = tf.keras.utils.img_to_array(\n",
    "                tf.keras.utils.load_img(img_path,\n",
    "                               target_size=target_size,\n",
    "                               interpolation='bicubic'))\n",
    "            features, _ = run_dlib_shape(img)\n",
    "            if features is not None:\n",
    "                all_features.append(features)\n",
    "                all_gender_labels.append(gender_labels[new_file_name])\n",
    "                #all_smiling_labels.append(smiling_labels[new_file_name])\n",
    "                image_files.append(new_file_name)\n",
    "            i += 1\n",
    "\n",
    "    landmark_features = np.array(all_features)\n",
    "    gender_labels = (np.array(all_gender_labels) + 1)/2 # simply converts the -1 into 0, so male=0 and female=1\n",
    "    #smiling_labels = (np.array(all_smiling_labels) + 1)/2\n",
    "    return landmark_features, gender_labels, image_files"
   ]
  },
  {
   "cell_type": "code",
   "execution_count": 10,
   "id": "9e964ee8",
   "metadata": {},
   "outputs": [],
   "source": [
    "images_dir = 'dataset_AMLS_22-23/celeba/img/'\n",
    "\n",
    "data_dir = 'dataset_AMLS_22-23/celeba/'"
   ]
  },
  {
   "cell_type": "code",
   "execution_count": 11,
   "id": "72f87ca0",
   "metadata": {},
   "outputs": [],
   "source": [
    "%store -r"
   ]
  },
  {
   "cell_type": "code",
   "execution_count": null,
   "id": "bbacf4c6",
   "metadata": {},
   "outputs": [],
   "source": []
  }
 ],
 "metadata": {
  "kernelspec": {
   "display_name": "Python 3 (ipykernel)",
   "language": "python",
   "name": "python3"
  },
  "language_info": {
   "codemirror_mode": {
    "name": "ipython",
    "version": 3
   },
   "file_extension": ".py",
   "mimetype": "text/x-python",
   "name": "python",
   "nbconvert_exporter": "python",
   "pygments_lexer": "ipython3",
   "version": "3.9.12"
  }
 },
 "nbformat": 4,
 "nbformat_minor": 5
}
