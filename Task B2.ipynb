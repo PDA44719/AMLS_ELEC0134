{
 "cells": [
  {
   "cell_type": "code",
   "execution_count": 1,
   "id": "85d54870",
   "metadata": {},
   "outputs": [],
   "source": [
    "import pandas as pd\n",
    "import matplotlib.pyplot as plt\n",
    "import matplotlib.image as mpimg\n",
    "import tensorflow as tf\n",
    "from tensorflow.keras.utils import load_img, img_to_array\n",
    "import numpy as np"
   ]
  },
  {
   "cell_type": "code",
   "execution_count": 2,
   "id": "291e4c14",
   "metadata": {},
   "outputs": [],
   "source": [
    "import tensorflow as tf\n",
    "import seaborn as sns\n",
    "import numpy as np\n",
    "import matplotlib.pyplot as plt\n",
    "import pandas as pd\n",
    "import random\n",
    "import os\n",
    "import dlib\n",
    "import re"
   ]
  },
  {
   "cell_type": "code",
   "execution_count": 3,
   "id": "8a18c299",
   "metadata": {},
   "outputs": [],
   "source": [
    "import cv2"
   ]
  },
  {
   "cell_type": "markdown",
   "id": "e28a1340",
   "metadata": {},
   "source": [
    "# Define a few variables"
   ]
  },
  {
   "cell_type": "code",
   "execution_count": 4,
   "id": "a3eb3e63",
   "metadata": {},
   "outputs": [],
   "source": [
    "basedir = './dataset_AMLS_22-23/celeba'\n",
    "images_dir = os.path.join(basedir,'img')\n",
    "labels_filename = 'labels.csv'\n",
    "\n",
    "detector = dlib.get_frontal_face_detector()\n",
    "predictor = dlib.shape_predictor('shape_predictor_68_face_landmarks.dat')"
   ]
  },
  {
   "cell_type": "markdown",
   "id": "fca3cf58",
   "metadata": {},
   "source": [
    "# Define a set of functions to be used to extract the features "
   ]
  },
  {
   "cell_type": "code",
   "execution_count": 5,
   "id": "0d21a8f9",
   "metadata": {},
   "outputs": [],
   "source": [
    "def shape_to_np(shape, dtype=\"int\"):\n",
    "    # initialize the list of (x, y)-coordinates\n",
    "    coords = np.zeros((shape.num_parts, 2), dtype=dtype)\n",
    "\n",
    "    # loop over all facial landmarks and convert them\n",
    "    # to a 2-tuple of (x, y)-coordinates\n",
    "    for i in range(0, shape.num_parts):\n",
    "        coords[i] = (shape.part(i).x, shape.part(i).y)\n",
    "\n",
    "    # return the list of (x, y)-coordinates\n",
    "    return coords"
   ]
  },
  {
   "cell_type": "code",
   "execution_count": 6,
   "id": "3aadf74b",
   "metadata": {},
   "outputs": [],
   "source": [
    "def rect_to_bb(rect):\n",
    "    # take a bounding predicted by dlib and convert it\n",
    "    # to the format (x, y, w, h) as we would normally do\n",
    "    # with OpenCV\n",
    "    x = rect.left()\n",
    "    y = rect.top()\n",
    "    w = rect.right() - x\n",
    "    h = rect.bottom() - y\n",
    "\n",
    "    # return a tuple of (x, y, w, h)\n",
    "    return (x, y, w, h)"
   ]
  },
  {
   "cell_type": "code",
   "execution_count": 7,
   "id": "5c17fd0b",
   "metadata": {},
   "outputs": [],
   "source": [
    "def run_dlib_shape(image):\n",
    "    # in this function we load the image, detect the landmarks of the face, and then return the image and the landmarks\n",
    "    # load the input image, resize it, and convert it to grayscale\n",
    "    resized_image = image.astype('uint8')\n",
    "\n",
    "    gray = cv2.cvtColor(resized_image, cv2.COLOR_BGR2GRAY)\n",
    "    gray = gray.astype('uint8')\n",
    "\n",
    "    # detect faces in the grayscale image\n",
    "    rects = detector(gray, 1)\n",
    "    num_faces = len(rects)\n",
    "\n",
    "    if num_faces == 0:\n",
    "        return None, resized_image\n",
    "\n",
    "    face_areas = np.zeros((1, num_faces))\n",
    "    face_shapes = np.zeros((136, num_faces), dtype=np.int64)\n",
    "\n",
    "    # loop over the face detections\n",
    "    for (i, rect) in enumerate(rects):\n",
    "        # determine the facial landmarks for the face region, then\n",
    "        # convert the facial landmark (x, y)-coordinates to a NumPy\n",
    "        # array\n",
    "        temp_shape = predictor(gray, rect)\n",
    "        temp_shape = shape_to_np(temp_shape)\n",
    "\n",
    "        # convert dlib's rectangle to a OpenCV-style bounding box\n",
    "        # [i.e., (x, y, w, h)],\n",
    "        #   (x, y, w, h) = face_utils.rect_to_bb(rect)\n",
    "        (x, y, w, h) = rect_to_bb(rect)\n",
    "        face_shapes[:, i] = np.reshape(temp_shape, [136])\n",
    "        face_areas[0, i] = w * h\n",
    "    # find largest face and keep\n",
    "    dlibout = np.reshape(np.transpose(face_shapes[:, np.argmax(face_areas)]), [68, 2])\n",
    "\n",
    "    return dlibout, resized_image"
   ]
  },
  {
   "cell_type": "code",
   "execution_count": 15,
   "id": "217c1e4f",
   "metadata": {},
   "outputs": [],
   "source": [
    "def resize_image(img_array):\n",
    "    pil_image = Image.fromarray(img_array)\n",
    "    resized_image = pil_image.resize((5, 5))\n",
    "    return np.array(resized_image)"
   ]
  },
  {
   "cell_type": "code",
   "execution_count": 16,
   "id": "adc35d7e",
   "metadata": {},
   "outputs": [],
   "source": [
    "# This function will return the RBG values of the cropped images (we only care about the eye, not the whole face)\n",
    "def get_eye_2(image_file):\n",
    "    image = Image.open(f'dataset_AMLS_22-23/cartoon_set/img/{image_file}')\n",
    "    image_array = np.array(image)\n",
    "    features,_ = run_dlib_shape(image_array)\n",
    "    eye_features = [features[37], features[38], features[40], features[41]]\n",
    "    horizontal_pixels = [element[0] for element in eye_features]\n",
    "    vertical_pixels = [element[1] for element in eye_features] \n",
    "    iris_crop = [(min(horizontal_pixels), max(horizontal_pixels)), (min(vertical_pixels), max(vertical_pixels))]\n",
    "    image_array = image_array[iris_crop[1][0]:iris_crop[1][1], iris_crop[0][0]:iris_crop[0][1], :]\n",
    "    resized_image_arr = resize_image(image_array)\n",
    "    \"\"\"\n",
    "    img_array = cv2.cvtColor(img_array, cv2.COLOR_BGR2RGB)\n",
    "    right_eye = img_array[250:277, 190:227, :]\n",
    "    print(f'Completed eye {iteration}')\n",
    "    return right_eye.reshape((1, 2997))\n",
    "    \"\"\"\n",
    "    return resized_image_arr[:, :, 0:3].reshape((1, 75))/255"
   ]
  }
 ],
 "metadata": {
  "kernelspec": {
   "display_name": "Python 3 (ipykernel)",
   "language": "python",
   "name": "python3"
  },
  "language_info": {
   "codemirror_mode": {
    "name": "ipython",
    "version": 3
   },
   "file_extension": ".py",
   "mimetype": "text/x-python",
   "name": "python",
   "nbconvert_exporter": "python",
   "pygments_lexer": "ipython3",
   "version": "3.9.12"
  }
 },
 "nbformat": 4,
 "nbformat_minor": 5
}
